{
  "nbformat": 4,
  "nbformat_minor": 0,
  "metadata": {
    "colab": {
      "provenance": [],
      "authorship_tag": "ABX9TyM6pj6b3pWjjUEAvRX7IQol",
      "include_colab_link": true
    },
    "kernelspec": {
      "name": "python3",
      "display_name": "Python 3"
    },
    "language_info": {
      "name": "python"
    }
  },
  "cells": [
    {
      "cell_type": "markdown",
      "metadata": {
        "id": "view-in-github",
        "colab_type": "text"
      },
      "source": [
        "<a href=\"https://colab.research.google.com/github/JJThornburg/AP-CS50/blob/main/JJ_Thornburg_Final_Exam.ipynb\" target=\"_parent\"><img src=\"https://colab.research.google.com/assets/colab-badge.svg\" alt=\"Open In Colab\"/></a>"
      ]
    },
    {
      "cell_type": "code",
      "execution_count": null,
      "metadata": {
        "colab": {
          "base_uri": "https://localhost:8080/"
        },
        "id": "hafGWLVBxeo8",
        "outputId": "9f581a47-59c7-41f6-c239-45ffc2076688"
      },
      "outputs": [
        {
          "name": "stdout",
          "output_type": "stream",
          "text": [
            "How many boxes would you like to compare? 2\n",
            "What units of measure would you like to use? feet\n",
            "What is the height of your box?1\n"
          ]
        }
      ],
      "source": [
        "#This is the overall final project for my class; there might be a few people with similar code to mine.\n",
        "\n",
        "#A fuction to make my life easier!\n",
        "def volumebox():\n",
        "  h = float(input(\"What is the height of your box?\"))\n",
        "  w = float(input(\"What is the width of your box?\"))\n",
        "  d = float(input(\"What is the depth of your box?\"))\n",
        "  print(\"END OF MEASUREMENTS\")\n",
        "  #This breaks up the repatition of 'what is the...'\n",
        "  volume = h*w*d\n",
        "  return volume\n",
        "\n",
        "#User inputs data beginning here  \n",
        "amount = int(input(\"How many boxes would you like to compare? \"))\n",
        "if amount < 2:\n",
        "  print(\"Sorry, that number is too small. Try another?\")\n",
        "  amount = int(input(\"How many boxes would you like to compare? \"))\n",
        "amount = amount\n",
        "amountlist = [None]*amount\n",
        "units = input(\"What units of measure would you like to use? \")\n",
        "\n",
        "#This gets the dimensions of the box.\n",
        "vollist = []\n",
        "for i in amountlist:\n",
        "  vol = volumebox()\n",
        "  vollist.append(vol)\n",
        "  vol = 0\n",
        "  \n",
        "#The final output begins here.\n",
        "print(\"Volumes: \")\n",
        "print(vollist)\n",
        "#This allows for the volumes to be listed in the order they were input in.\n",
        "vollist.sort()\n",
        "big = vollist[-1]\n",
        "little = vollist[0]\n",
        "# my sister and I used the same idea of sorting and finding the largest and the smallest volumes.\n",
        "total = 0\n",
        "for i in range(0, len(vollist)):\n",
        "  total = total + vollist[i]\n",
        "average = total/amount\n",
        "\n",
        "#Comparison of the volumes.\n",
        "print(\"The maximum volume was \" + str(big) + \" \" + str(units))\n",
        "print(\"The minimum volume was \" + str(little) + \" \" + str(units))\n",
        "print(\"The average of all the volumes was \" + str(average) + \" \" + str(units))"
      ]
    }
  ]
}